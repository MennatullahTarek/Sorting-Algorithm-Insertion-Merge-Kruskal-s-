{
 "cells": [
  {
   "cell_type": "markdown",
   "metadata": {},
   "source": [
    "## INSERSION SORT ALGORITHM\n"
   ]
  },
  {
   "cell_type": "code",
   "execution_count": 1,
   "metadata": {},
   "outputs": [
    {
     "name": "stdout",
     "output_type": "stream",
     "text": [
      "Enter the number of items: 5\n",
      "Enter list numbers : 10\n",
      "Enter list numbers : 6\n",
      "Enter list numbers : 8\n",
      "Enter list numbers : 2\n",
      "Enter list numbers : 0\n",
      "[0, 2, 6, 8, 10]\n"
     ]
    }
   ],
   "source": [
    "#INSERTION SORT\n",
    "def insertion_sort(list1):\n",
    "    for item in range(1, len(list1)):\n",
    "        curNum = list1[item]\n",
    "        key = 0\n",
    "        for j in range(item-1, -2, -1):\n",
    "            key = j\n",
    "            if list1[j] > curNum:\n",
    "                list1 [j+1] = list1 [j]\n",
    "            else:\n",
    "                break\n",
    "        list1 [key+1] = curNum\n",
    "        \n",
    "#ENTER UNSORTED LIST\n",
    "list1=[]\n",
    "length=int(input(\"Enter the number of items: \"))\n",
    "for i in range (length):\n",
    "    num= int( input (\"Enter list numbers : \"))\n",
    "    list1.append(num)\n",
    "\n",
    "insertion_sort(list1)\n",
    "print(list1)\n"
   ]
  },
  {
   "cell_type": "markdown",
   "metadata": {},
   "source": [
    "## MERGE SORT ALGORITHM"
   ]
  },
  {
   "cell_type": "code",
   "execution_count": 2,
   "metadata": {},
   "outputs": [
    {
     "name": "stdout",
     "output_type": "stream",
     "text": [
      "Enter the number of items: 5\n",
      "Enter list numbers : 9\n",
      "Enter list numbers : 5\n",
      "Enter list numbers : 1\n",
      "Enter list numbers : 7\n",
      "Enter list numbers : 3\n"
     ]
    },
    {
     "data": {
      "text/plain": [
       "[1, 3, 5, 7, 9]"
      ]
     },
     "execution_count": 2,
     "metadata": {},
     "output_type": "execute_result"
    }
   ],
   "source": [
    "#MERGE SORT\n",
    "def merge_sort(list1):\n",
    "    L = len(list1)\n",
    "    if L <= 1:\n",
    "        return list1 \n",
    "    mid = L // 2\n",
    "    left_pointer, right_pointer = 0, 0\n",
    "    \n",
    "    left_list = merge_sort(list1[:mid])\n",
    "    \n",
    "    right_list = merge_sort(list1[mid:])\n",
    "    result = []\n",
    "    \n",
    "    # merge(left, right)\n",
    "    while left_pointer < len(left_list) and right_pointer < len(right_list):\n",
    "        if left_list[left_pointer] <= right_list[right_pointer]:\n",
    "            result.append(left_list[left_pointer])\n",
    "            left_pointer += 1\n",
    "        else:\n",
    "            result.append(right_list[right_pointer])\n",
    "            right_pointer += 1\n",
    "\n",
    "    result += right_list[right_pointer:]\n",
    "    result += left_list[left_pointer:]\n",
    "    return result\n",
    "\n",
    "\n",
    "#ENTER UNSORTED LIST\n",
    "list1=[]\n",
    "length=int(input(\"Enter the number of items: \"))\n",
    "for i in range (length):\n",
    "    num= int( input (\"Enter list numbers : \"))\n",
    "    list1.append(num)\n",
    "    \n",
    "merge_sort(list1)\n",
    "\n",
    "\n"
   ]
  },
  {
   "cell_type": "markdown",
   "metadata": {},
   "source": [
    "## KRUSKAL'S ALGORITHM"
   ]
  },
  {
   "cell_type": "code",
   "execution_count": 9,
   "metadata": {},
   "outputs": [
    {
     "name": "stdout",
     "output_type": "stream",
     "text": [
      "1 - 2: 2\n",
      "2 - 5: 2\n",
      "2 - 3: 3\n",
      "3 - 4: 3\n",
      "0 - 1: 4\n"
     ]
    }
   ],
   "source": [
    "class Graph:\n",
    "    def __init__(self, vertices):\n",
    "        self.V = vertices\n",
    "        self.graph= []\n",
    "        \n",
    "    def add_edge(self, u, v, w):\n",
    "        self.graph.append([u, v, w])\n",
    "        \n",
    "    # Search function\n",
    "    \n",
    "    def find(self, parent, i):\n",
    "        if parent[i] == i:\n",
    "            return i\n",
    "        return self.find(parent, parent[i])\n",
    "        \n",
    "    def apply_union(self, parent, rank, x, y):\n",
    "        xroot = self.find(parent, x)\n",
    "        yroot = self.find(parent, y)\n",
    "        if rank[xroot] < rank[yroot]:\n",
    "            parent[xroot] = yroot\n",
    "        elif rank[xroot] > rank[yroot]:\n",
    "            parent[yroot] = xroot\n",
    "        else:\n",
    "            parent[yroot] = xroot\n",
    "            rank[xroot] += 1\n",
    "            \n",
    "            \n",
    "     #  Applying Kruskal algorithm\n",
    "    def kruskal_algo(self):\n",
    "        result = []\n",
    "        i, e = 0, 0\n",
    "        self.graph = sorted(self.graph, key=lambda item: item[2])\n",
    "        parent = []\n",
    "        rank = []\n",
    "        for node in range(self.V):\n",
    "            parent.append(node)\n",
    "            rank.append(0)\n",
    "        while e < self.V - 1:\n",
    "            u, v, w = self.graph[i]\n",
    "            i = i + 1\n",
    "            x = self.find(parent, u)\n",
    "            y = self.find(parent, v)\n",
    "            if x != y:\n",
    "                e = e + 1\n",
    "                result.append([u, v, w])\n",
    "                self.apply_union(parent, rank, x, y)\n",
    "        for u, v, weight in result:\n",
    "            print(\"%d - %d: %d\" % (u, v, weight))\n",
    "\n",
    "\n",
    "g = Graph(6)\n",
    "g.add_edge(0, 1, 4)\n",
    "g.add_edge(0, 2, 4)\n",
    "g.add_edge(1, 2, 2)\n",
    "g.add_edge(1, 0, 4)\n",
    "g.add_edge(2, 0, 4)\n",
    "g.add_edge(2, 1, 2)\n",
    "g.add_edge(2, 3, 3)\n",
    "g.add_edge(2, 5, 2)\n",
    "g.add_edge(2, 4, 4)\n",
    "g.add_edge(3, 2, 3)\n",
    "g.add_edge(3, 4, 3)\n",
    "g.add_edge(4, 2, 4)\n",
    "g.add_edge(4, 3, 3)\n",
    "g.add_edge(5, 2, 2)\n",
    "g.add_edge(5, 4, 3)\n",
    "g.kruskal_algo()"
   ]
  }
 ],
 "metadata": {
  "kernelspec": {
   "display_name": "Python 3",
   "language": "python",
   "name": "python3"
  },
  "language_info": {
   "codemirror_mode": {
    "name": "ipython",
    "version": 3
   },
   "file_extension": ".py",
   "mimetype": "text/x-python",
   "name": "python",
   "nbconvert_exporter": "python",
   "pygments_lexer": "ipython3",
   "version": "3.8.5"
  }
 },
 "nbformat": 4,
 "nbformat_minor": 4
}
